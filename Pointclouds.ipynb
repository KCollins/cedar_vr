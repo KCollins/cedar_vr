{
 "cells": [
  {
   "cell_type": "markdown",
   "id": "41bf4d5d-28a6-4ec9-b879-a9bf607a4699",
   "metadata": {},
   "source": [
    "# Pointcloud Demo\n",
    "This demonstration notebook uses code from https://github.com/heliophysicsPy/summer-school-24/tree/main/pysat-tutorial."
   ]
  },
  {
   "cell_type": "code",
   "execution_count": 1,
   "id": "3cb09333-a346-44e2-8952-c450e664464a",
   "metadata": {},
   "outputs": [
    {
     "name": "stderr",
     "output_type": "stream",
     "text": [
      "/home/pliny/.local/lib/python3.9/site-packages/spacepy/time.py:2367: UserWarning: Leapseconds may be out of date. Use spacepy.toolbox.update(leapsecs=True)\n",
      "  warnings.warn('Leapseconds may be out of date.'\n"
     ]
    }
   ],
   "source": [
    "# import packages\n",
    "import pandas as pd\n",
    "import pysat\n",
    "import datetime as dt\n",
    "import matplotlib.pyplot as plt\n",
    "import numpy as np\n",
    "from spacepy import coordinates as coord\n",
    "import warnings\n",
    "from harkness.create_ply import create_ply\n",
    "warnings.filterwarnings(\"ignore\", message=\"'S' is deprecated and will be removed in a future version, please use 's' instead.\")\n",
    "\n",
    "pd.set_option('display.max_columns', None)"
   ]
  },
  {
   "cell_type": "markdown",
   "id": "af51c0b9-d6e5-4e95-af06-895235f74ea6",
   "metadata": {},
   "source": [
    "## Download data\n",
    "As an example, we'll visualize ICON data during the 2020 Tonga eruption. First, let's download the data we're interested in using pysat and put it into pandas dataframes. "
   ]
  },
  {
   "cell_type": "code",
   "execution_count": 2,
   "id": "d2580d64-8d75-43bb-910b-33768f0671e2",
   "metadata": {},
   "outputs": [],
   "source": [
    "# Set range of dates for downloading ICON data\n",
    "# start_download_date = dt.datetime(2020, 12, 19)\n",
    "# stop_download_date = dt.datetime(2020, 12, 24)\n",
    "start_download_date = dt.datetime(2022, 1, 13)\n",
    "stop_download_date = dt.datetime(2022, 1, 17)"
   ]
  },
  {
   "cell_type": "code",
   "execution_count": 3,
   "id": "e3d49e1a-2bff-4cc6-908e-8b71201e624d",
   "metadata": {},
   "outputs": [
    {
     "name": "stdout",
     "output_type": "stream",
     "text": [
      "old: ['output']\n",
      "pysat directory has been set previously. Leaving unchanged.\n",
      "new: ['output']\n"
     ]
    }
   ],
   "source": [
    "# Set data directory if user hasn't already set one\n",
    "print(f\"old: {pysat.params['data_dirs']}\")\n",
    "if len(pysat.params['data_dirs']) == 0 or pysat.params['data_dirs'] == ['.']:\n",
    "    # Set a directory for pysat to use for data\n",
    "    pysat.params['data_dirs'] = 'output/'\n",
    "else:\n",
    "    print('pysat directory has been set previously. Leaving unchanged.')\n",
    "\n",
    "print(f\"new: {pysat.params['data_dirs']}\")"
   ]
  },
  {
   "cell_type": "markdown",
   "id": "2c1d77c8-7b27-45a1-ae0b-e7e1a841a8df",
   "metadata": {},
   "source": [
    "### IVM\n",
    "We want to see the following properties: \n",
    "```\n",
    "'IVM': 'Altitude', 'Latitude', 'Longitude',\n",
    "                     'Ion_Velocity_Field_Aligned',\n",
    "                     'Ion_Velocity_Meridional', 'Ion_Velocity_Zonal',\n",
    "                     'Fractional_Ion_Density_H', 'Fractional_Ion_Density_O',\n",
    "                     'Ion_Density', 'Ion_Temperature']\n",
    "```\n",
    "\n",
    "\n"
   ]
  },
  {
   "cell_type": "code",
   "execution_count": 4,
   "id": "38a737bd-948c-4318-a38a-c6a09e371e9a",
   "metadata": {},
   "outputs": [],
   "source": [
    "# # # Instantiate IVM Instrument object. IVM data is automatically cleaned using\n",
    "# # # instrument flags as it is loaded. Levels of 'clean', 'dusty', 'dirty', and\n",
    "# # # 'none' or None are supported. This is generally true for all pysat instruments\n",
    "# ivm = pysat.Instrument('icon', 'ivm', inst_id='a', clean_level='clean')\n",
    "\n",
    "# # # Download data from NASA CDAWeb.\n",
    "\n",
    "# # # If you would like additional feedback while pysat performs operations\n",
    "# # # uncomment the line below.\n",
    "# # pysat.logger.setLevel(\"INFO\")\n",
    "\n",
    "# # # Download data between specific dates. We shouldn't need to do this today\n",
    "# ivm.download(start_download_date, stop_download_date)\n",
    "\n",
    "# # # To get all of the latest files on the server but not on\n",
    "# # # the local machine, uncomment line below.\n",
    "# # # The version and revision numbers in the filenames are used to identify\n",
    "# # # the latest files. This works for all ICON instruments.\n",
    "# # # ivm.download_updated_files()\n",
    "\n",
    "# # # Resume limited feedback\n",
    "# pysat.logger.setLevel(\"WARNING\")\n",
    "\n",
    "# ivm.load(date = start_download_date, end_date = stop_download_date)"
   ]
  },
  {
   "cell_type": "code",
   "execution_count": 5,
   "id": "7df8672d-8b09-49db-9a70-aa350a38e81b",
   "metadata": {},
   "outputs": [],
   "source": [
    "# help(pysat.Instrument)"
   ]
  },
  {
   "cell_type": "markdown",
   "id": "fe861a3f-31d3-43a1-9bf1-4233f0ea0538",
   "metadata": {},
   "source": [
    "### MIGHTI \n",
    "We want to see the following parameters:\n",
    "```\n",
    "'MIGHTI': 'Epoch', 'Altitude', 'Latitude', 'Longitude',\n",
    "                    'Magnetic_Field_Aligned_Wind',\n",
    "                    'Magnetic_Meridional_Wind', 'Magnetic_Zonal_Wind',\n",
    "                    'Meridional_Wind', 'Meridional_Wind_Error',\n",
    "                    'Zonal_Wind', 'Zonal_Wind_Error'\n",
    "```"
   ]
  },
  {
   "cell_type": "code",
   "execution_count": 6,
   "id": "d861eac2-babb-4004-a5b2-52321da081b2",
   "metadata": {},
   "outputs": [],
   "source": [
    "# # Register instruments with pysat. Only needed once per install.\n",
    "# import pysatNASA\n",
    "# pysat.utils.registry.register(['pysatNASA.instruments.icon_mighti'])\n",
    "\n",
    "# # Improvements for loading ICON metadata are currently in\n",
    "# # https://github.com/pysat/pysatNASA/pull/100.\n",
    "# warnings.simplefilter('ignore', UserWarning)\n",
    "\n",
    "# # First, obtain MIGHTI data from NASA CDAWeb.\n",
    "\n",
    "# # Instantiate pysat.Instrument objects for the MIGHTI data products\n",
    "# # MIGHTI Vector wind red.\n",
    "# mighti_vw_red = pysat.Instrument('icon', 'mighti', tag='vector_wind_red',\n",
    "#                                  inst_id='vector')\n",
    "\n",
    "# # MIGHTI Vector wind green.\n",
    "# mighti_vw_green = pysat.Instrument('icon', 'mighti', tag='vector_wind_green',\n",
    "#                                    inst_id='vector')\n",
    "\n",
    "# # MIGHTI Temperature.\n",
    "# mighti_temp_a = pysat.Instrument('icon', 'mighti', tag='temperature',\n",
    "#                                  inst_id='a')\n",
    "# mighti_temp_b = pysat.Instrument('icon', 'mighti', tag='temperature',\n",
    "#                                  inst_id='b')\n",
    "\n",
    "# # Collect into a list.\n",
    "# mighti_insts = [mighti_vw_red, mighti_vw_green, mighti_temp_a, mighti_temp_b]"
   ]
  },
  {
   "cell_type": "code",
   "execution_count": 7,
   "id": "8f7b2207-c315-487e-9cf3-58655b244c20",
   "metadata": {},
   "outputs": [],
   "source": [
    "# # Download various MIGHTI data products\n",
    "\n",
    "# # If needed, change levels for logging printout to increase feedback.\n",
    "# # More information about logging may be found here:\n",
    "# # https://docs.python.org/3/library/logging.html\n",
    "# pysat.logger.setLevel(\"INFO\")\n",
    "\n",
    "# # Perform download for each dataset. Data is already downloaded for the workshop\n",
    "# for inst in mighti_insts:\n",
    "#     inst.download(start_download_date, stop_download_date)\n",
    "    \n",
    "# # Change levels for logging printout to decrease feedback\n",
    "# pysat.logger.setLevel(\"WARNING\")"
   ]
  },
  {
   "cell_type": "markdown",
   "id": "6738aafb-8ed2-448c-b1f1-280e45880a0d",
   "metadata": {},
   "source": [
    "## Visualize with harkness\n",
    "An easy way to visualize satellite data is to create a pointcloud with points at the locations expressed by the satellite coordinates, colormapped according to parameters of interest. This pointcloud can be visualized on a computer monitor with CloudCompare, or opened up in VR using VRifier or VR Point Cloud Editor."
   ]
  },
  {
   "cell_type": "markdown",
   "id": "d98197bc-418b-41c8-9fca-ecad44060efc",
   "metadata": {},
   "source": [
    "### Generate pointclouds using harkness"
   ]
  },
  {
   "cell_type": "code",
   "execution_count": null,
   "id": "2d88e706-b69d-4542-8ce4-222b1ebb92e6",
   "metadata": {},
   "outputs": [],
   "source": [
    "# ivm.load(date = start_download_date, end_date = stop_download_date)\n",
    "ivm.load(2022, 15)\n",
    "df = ivm.data\n",
    "# Extract coordinates as separate lists\n",
    "latitudes = df['Latitude'].tolist()\n",
    "longitudes = df['Longitude'].tolist()\n",
    "altitudes = df['Altitude'].tolist()\n",
    "# Combine coordinates into a list of lists for sph2car\n",
    "spherical_coords = list(zip(latitudes, longitudes, altitudes))\n",
    "# Use sph2car to convert to Cartesian coordinates\n",
    "cartesian_coords = coord.sph2car(spherical_coords)\n",
    "# Unpack Cartesian coordinates into separate lists\n",
    "x, y, z = zip(*cartesian_coords)  # * unpacks the results from sph2car\n",
    "# Add new columns to DataFrame\n",
    "df = df.assign(X=x, Y=y, Z=z)\n",
    "print('Dataframe edited. Time to generate the .ply file...')"
   ]
  },
  {
   "cell_type": "code",
   "execution_count": null,
   "id": "1976b8ad-6b16-4b18-b67a-e09e0ec9e433",
   "metadata": {},
   "outputs": [],
   "source": [
    "df.head()\n",
    "color_col = 'Ion_Density'\n",
    "filename = 'output/'+color_col+'.ply'\n",
    "create_ply(df, filename = filename, C=color_col, X='X', Y='Y', Z='Z', cmap='viridis', is_verbose=True)"
   ]
  },
  {
   "cell_type": "markdown",
   "id": "c5f1fa77-d82d-4a2e-b1f5-e1eb0a8c6f3c",
   "metadata": {},
   "source": [
    "### Visualize in Jupyter notebook"
   ]
  },
  {
   "cell_type": "code",
   "execution_count": null,
   "id": "d8190030-a5bf-4c55-bae5-4c98d7c489c3",
   "metadata": {},
   "outputs": [],
   "source": [
    "fig = plt.figure()\n",
    "ax = fig.add_subplot(projection='3d')\n",
    "col = df[color_col]\n",
    "ax.scatter(df['X'], df['Y'], df['Z'], c = col)\n",
    "\n",
    "ax.set_xlabel('X')\n",
    "ax.set_ylabel('Y')\n",
    "ax.set_zlabel('Z')\n",
    "\n",
    "plt.show()"
   ]
  },
  {
   "cell_type": "markdown",
   "id": "16d84e53-0df2-46a5-8149-bb5cacae6650",
   "metadata": {},
   "source": [
    "## Create .3ds version (optional)"
   ]
  },
  {
   "cell_type": "code",
   "execution_count": null,
   "id": "eae9e35d-6c3e-4617-815a-3ec82495e81e",
   "metadata": {},
   "outputs": [],
   "source": [
    "# import aspose.threed as a3d\n",
    "\n",
    "# scene = a3d.Scene.from_file(\"test.ply\")\n",
    "# scene.save(\"Output.3ds\")"
   ]
  }
 ],
 "metadata": {
  "kernelspec": {
   "display_name": "Python 3 (ipykernel)",
   "language": "python",
   "name": "python3"
  },
  "language_info": {
   "codemirror_mode": {
    "name": "ipython",
    "version": 3
   },
   "file_extension": ".py",
   "mimetype": "text/x-python",
   "name": "python",
   "nbconvert_exporter": "python",
   "pygments_lexer": "ipython3",
   "version": "3.9.1"
  }
 },
 "nbformat": 4,
 "nbformat_minor": 5
}
