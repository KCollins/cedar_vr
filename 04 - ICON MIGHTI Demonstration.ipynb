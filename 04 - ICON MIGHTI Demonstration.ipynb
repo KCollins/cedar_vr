{
 "cells": [
  {
   "cell_type": "markdown",
   "id": "1115d396",
   "metadata": {},
   "source": [
    "# Using MIGHTI data from NASA Ionospheric Connections Explorer"
   ]
  },
  {
   "cell_type": "code",
   "execution_count": 1,
   "id": "7e2c9554",
   "metadata": {},
   "outputs": [
    {
     "name": "stderr",
     "output_type": "stream",
     "text": [
      "Matplotlib is building the font cache; this may take a moment.\n"
     ]
    }
   ],
   "source": [
    "# Import packages\n",
    "import datetime as dt\n",
    "import matplotlib.pyplot as plt\n",
    "import numpy as np\n",
    "import warnings\n",
    "warnings.filterwarnings(\"ignore\", message=\"'S' is deprecated and will be removed in a future version, please use 's' instead.\")"
   ]
  },
  {
   "cell_type": "code",
   "execution_count": 2,
   "id": "5b113f2b",
   "metadata": {},
   "outputs": [],
   "source": [
    "import pysat"
   ]
  },
  {
   "cell_type": "code",
   "execution_count": 3,
   "id": "da65cdc6",
   "metadata": {},
   "outputs": [
    {
     "name": "stdout",
     "output_type": "stream",
     "text": [
      "old: ['output']\n",
      "pysat directory has been set previously. Leaving unchanged.\n",
      "new: ['output']\n"
     ]
    }
   ],
   "source": [
    "# Set data directory if user hasn't already set one\n",
    "print(f\"old: {pysat.params['data_dirs']}\")\n",
    "if len(pysat.params['data_dirs']) == 0 or pysat.params['data_dirs'] == ['.']:\n",
    "    # Set a directory for pysat to use for data\n",
    "    pysat.params['data_dirs'] = 'output/'\n",
    "else:\n",
    "    print('pysat directory has been set previously. Leaving unchanged.')\n",
    "\n",
    "print(f\"new: {pysat.params['data_dirs']}\")"
   ]
  },
  {
   "cell_type": "code",
   "execution_count": 4,
   "id": "953abb57",
   "metadata": {},
   "outputs": [],
   "source": [
    "# Register instruments with pysat. Only needed once per install.\n",
    "import pysatNASA\n",
    "pysat.utils.registry.register(['pysatNASA.instruments.icon_mighti'])\n",
    "\n",
    "# Improvements for loading ICON metadata are currently in\n",
    "# https://github.com/pysat/pysatNASA/pull/100.\n",
    "warnings.simplefilter('ignore', UserWarning)"
   ]
  },
  {
   "cell_type": "code",
   "execution_count": 5,
   "id": "58724562",
   "metadata": {},
   "outputs": [],
   "source": [
    "# First, obtain MIGHTI data from NASA CDAWeb.\n",
    "\n",
    "# Instantiate pysat.Instrument objects for the MIGHTI data products\n",
    "# MIGHTI Vector wind red.\n",
    "mighti_vw_red = pysat.Instrument('icon', 'mighti', tag='vector_wind_red',\n",
    "                                 inst_id='vector')\n",
    "\n",
    "# MIGHTI Vector wind green.\n",
    "mighti_vw_green = pysat.Instrument('icon', 'mighti', tag='vector_wind_green',\n",
    "                                   inst_id='vector')\n",
    "\n",
    "# MIGHTI Temperature.\n",
    "mighti_temp_a = pysat.Instrument('icon', 'mighti', tag='temperature',\n",
    "                                 inst_id='a')\n",
    "mighti_temp_b = pysat.Instrument('icon', 'mighti', tag='temperature',\n",
    "                                 inst_id='b')\n",
    "\n",
    "# Collect into a list.\n",
    "mighti_insts = [mighti_vw_red, mighti_vw_green, mighti_temp_a, mighti_temp_b]"
   ]
  },
  {
   "cell_type": "code",
   "execution_count": 6,
   "id": "f282ee4e",
   "metadata": {},
   "outputs": [
    {
     "name": "stdout",
     "output_type": "stream",
     "text": [
      "Help on module pysatNASA.instruments.icon_mighti in pysatNASA.instruments:\n",
      "\n",
      "NAME\n",
      "    pysatNASA.instruments.icon_mighti - Module for the ICON MIGHTI instrument.\n",
      "\n",
      "DESCRIPTION\n",
      "    Supports the Michelson Interferometer for Global High-resolution\n",
      "    Thermospheric Imaging (MIGHTI) instrument onboard the Ionospheric\n",
      "    CONnection Explorer (ICON) satellite.  Accesses local data in\n",
      "    netCDF format.\n",
      "    \n",
      "    Properties\n",
      "    ----------\n",
      "    platform\n",
      "        'icon'\n",
      "    name\n",
      "        'mighti'\n",
      "    tag\n",
      "        Supports 'los_wind_green', 'los_wind_red', 'vector_wind_green',\n",
      "        'vector_wind_red', 'temperature'.  Note that not every data product\n",
      "        available for every inst_id\n",
      "    inst_id\n",
      "        'vector', 'a', or 'b'\n",
      "    \n",
      "    Warnings\n",
      "    --------\n",
      "    - The cleaning parameters for the instrument are still under development.\n",
      "    - Only supports level-2 data.\n",
      "    \n",
      "    Example\n",
      "    -------\n",
      "    ::\n",
      "    \n",
      "        import pysat\n",
      "        mighti = pysat.Instrument('icon', 'mighti', tag='vector_wind_green',\n",
      "                                  inst_id='vector', clean_level='clean')\n",
      "        mighti.download(dt.datetime(2020, 1, 30), dt.datetime(2020, 1, 31))\n",
      "        mighti.load(2020, 2)\n",
      "    \n",
      "    By default, pysat removes the ICON level tags from variable names, ie,\n",
      "    ICON_L27_Ion_Density becomes Ion_Density.  To retain the original names, use\n",
      "    ::\n",
      "    \n",
      "        mighti = pysat.Instrument(platform='icon', name='mighti',\n",
      "                                  tag='vector_wind_green', inst_id='vector',\n",
      "                                  clean_level='clean',\n",
      "                                  keep_original_names=True)\n",
      "    \n",
      "    Note\n",
      "    ----\n",
      "    Currently red and green data products are bundled together in zip files on the\n",
      "    server.  This results in 'double downloading'.  This will be fixed once data is\n",
      "    transfered to SPDF.\n",
      "\n",
      "FUNCTIONS\n",
      "    clean(self)\n",
      "        Clean ICON MIGHTI data to the specified level.\n",
      "        \n",
      "        Note\n",
      "        ----\n",
      "            Supports 'clean', 'dusty', 'none'\n",
      "    \n",
      "    filter_metadata(meta_dict)\n",
      "        Filter FUV metadata to remove warnings during loading.\n",
      "        \n",
      "        Parameters\n",
      "        ----------\n",
      "        meta_dict : dict\n",
      "            Dictionary of metadata from file\n",
      "        \n",
      "        Returns\n",
      "        -------\n",
      "        meta_dict : dict\n",
      "            Filtered FUV metadata\n",
      "    \n",
      "    load(fnames, tag='', inst_id='', keep_original_names=False)\n",
      "        Load ICON MIGHTI data into `xarray.Dataset` and `pysat.Meta` objects.\n",
      "        \n",
      "        This routine is called as needed by pysat. It is not intended\n",
      "        for direct user interaction.\n",
      "        \n",
      "        Parameters\n",
      "        ----------\n",
      "        fnames : array-like\n",
      "            iterable of filename strings, full path, to data files to be loaded.\n",
      "            This input is nominally provided by pysat itself.\n",
      "        tag : str\n",
      "            Tag name used to identify particular data set to be loaded.\n",
      "            This input is nominally provided by pysat itself. (default='')\n",
      "        inst_id : str\n",
      "            Instrument ID used to identify particular data set to be loaded.\n",
      "            This input is nominally provided by pysat itself. (default='')\n",
      "        keep_original_names : bool\n",
      "            if True then the names as given in the netCDF ICON file\n",
      "            will be used as is. If False, a preamble is removed. (default=False)\n",
      "        \n",
      "        Returns\n",
      "        -------\n",
      "        data : xr.Dataset\n",
      "            An xarray Dataset with data prepared for the pysat.Instrument\n",
      "        meta : pysat.Meta\n",
      "            Metadata formatted for a pysat.Instrument object.\n",
      "        \n",
      "        Note\n",
      "        ----\n",
      "        Any additional keyword arguments passed to pysat.Instrument\n",
      "        upon instantiation are passed along to this routine.\n",
      "        \n",
      "        Examples\n",
      "        --------\n",
      "        ::\n",
      "        \n",
      "            inst = pysat.Instrument('icon', 'fuv')\n",
      "            inst.load(2020, 1)\n",
      "    \n",
      "    preprocess(self, keep_original_names=False)\n",
      "        Adjust epoch timestamps to datetimes and remove variable preambles.\n",
      "        \n",
      "        Parameters\n",
      "        ----------\n",
      "        keep_original_names : bool\n",
      "            if True then the names as given in the netCDF ICON file\n",
      "            will be used as is. If False, a preamble is removed. (default=False)\n",
      "\n",
      "DATA\n",
      "    datestr = '{year:04d}{month:02d}{day:02d}_v{version:02d}r{revision:03d...\n",
      "    download = functools.partial(<function cdas_download at 0x7...temperat...\n",
      "    download_tags = {'a': {'los_wind_green': 'ICON_L2-1_MIGHTI-A_LOS-WIND-...\n",
      "    fname1 = 'icon_l2-1_mighti-{id:s}_los-wind-{color:s}_{date:s}.nc'\n",
      "    fname2 = 'icon_l2-2_mighti_vector-wind-{color:s}_{date:s}.nc'\n",
      "    fname3 = 'icon_l2-3_mighti-{id:s}_temperature_{date:s}.nc'\n",
      "    init = functools.partial(<function init at 0x7f93d46585...ASA/instrume...\n",
      "    inst_ids = {'a': ['los_wind_green', 'los_wind_red', 'temperature'], 'b...\n",
      "    list_files = functools.partial(<function list_files at 0x7f93...2d}{da...\n",
      "    list_remote_files = functools.partial(<function cdas_list_remote_fil.....\n",
      "    name = 'mighti'\n",
      "    pandas_format = False\n",
      "    platform = 'icon'\n",
      "    supported_tags = {'a': {'los_wind_green': 'icon_l2-1_mighti-a_los-wind...\n",
      "    tags = {'los_wind_green': 'Line of sight wind data -- Green Line', 'lo...\n",
      "\n",
      "FILE\n",
      "    /home/pliny/.local/lib/python3.9/site-packages/pysatNASA/instruments/icon_mighti.py\n",
      "\n",
      "\n"
     ]
    }
   ],
   "source": [
    "# Learn more about MIGHT\n",
    "help(mighti_insts[0].inst_module)"
   ]
  },
  {
   "cell_type": "code",
   "execution_count": 7,
   "id": "260d0a22",
   "metadata": {},
   "outputs": [],
   "source": [
    "# Set range of dates for downloading ICON data\n",
    "start_download_date = dt.datetime(2020, 1, 1)\n",
    "stop_download_date = dt.datetime(2020, 1, 4)"
   ]
  },
  {
   "cell_type": "code",
   "execution_count": 8,
   "id": "ae0f7419",
   "metadata": {},
   "outputs": [],
   "source": [
    "# Download various MIGHTI data products\n",
    "\n",
    "# If needed, change levels for logging printout to increase feedback.\n",
    "# More information about logging may be found here:\n",
    "# https://docs.python.org/3/library/logging.html\n",
    "# pysat.logger.setLevel(\"INFO\")\n",
    "\n",
    "# Perform download for each dataset. Data is already downloaded for the workshop\n",
    "# for inst in mighti_insts:\n",
    "#     inst.download(start_download_date, stop_download_date)\n",
    "    \n",
    "# Change levels for logging printout to decrease feedback\n",
    "# pysat.logger.setLevel(\"WARNING\")"
   ]
  },
  {
   "cell_type": "markdown",
   "id": "bda9ce09",
   "metadata": {},
   "source": [
    "# MIGHTI Winds Basic Example"
   ]
  },
  {
   "cell_type": "code",
   "execution_count": 9,
   "id": "c91d02bf",
   "metadata": {
    "scrolled": true
   },
   "outputs": [
    {
     "name": "stderr",
     "output_type": "stream",
     "text": [
      "/tmp/ipykernel_894/3150071405.py:14: DeprecationWarning: In pysat version 3.3.0+ the subsequent IndexError will not be raised.\n",
      "  mighti_vw_red.load(2020, 2)\n",
      "/tmp/ipykernel_894/3150071405.py:15: DeprecationWarning: In pysat version 3.3.0+ the subsequent IndexError will not be raised.\n",
      "  mighti_vw_green.load(2020, 2)\n"
     ]
    }
   ],
   "source": [
    "# Produce simple overview plot of MIGHTI winds for a day of data.\n",
    "\n",
    "vmin = -250.\n",
    "vmax = 250.\n",
    "cmap = plt.cm.RdBu\n",
    "\n",
    "# pysat features a variety of internal data checks to ensure data is\n",
    "# consistent with expectations. Warnings are raised below relating to the\n",
    "# treatment of ICON's metadata. An upcoming release to pysat improves the\n",
    "# generality of metadata handling when loading files, which an upcoming\n",
    "# release to pysatNASA utilizes. pysat > v3.0.1 and pysatNASA > 0.0.2\n",
    "\n",
    "# Load day of data\n",
    "mighti_vw_red.load(2020, 2)\n",
    "mighti_vw_green.load(2020, 2)\n",
    "\n",
    "# # Zonal wind plot, red line\n",
    "# mighti_vw_red['Zonal_Wind'].transpose().plot(\n",
    "#     cbar_kwargs={'label': 'Zonal Wind (m/s)'}, vmin=vmin, vmax=vmax, cmap=cmap)\n",
    "# plt.title('MIGHTI Zonal Wind - Red Line')\n",
    "\n",
    "# # Use pysat's stored metadata to get units\n",
    "# ylabel = ''.join(['Altitude (', mighti_vw_red.meta['Altitude', 'units'], ')'])\n",
    "# plt.ylabel(ylabel)\n",
    "\n",
    "# # Meridional wind plot, red line\n",
    "# plt.figure()\n",
    "# mighti_vw_red['Meridional_Wind'].transpose().plot(\n",
    "#     cbar_kwargs={'label': 'Meridional Wind (m/s)'}, vmin=vmin, vmax=vmax,\n",
    "#     cmap=cmap)\n",
    "# plt.title('MIGHTI Meridional Wind - Red Line')\n",
    "# plt.ylabel(ylabel)\n",
    "\n",
    "# # Zonal wind plot, green line\n",
    "# plt.figure()\n",
    "# mighti_vw_green['Zonal_Wind'].transpose().plot(\n",
    "#     cbar_kwargs={'label': 'Zonal Wind (m/s)'}, vmin=vmin, vmax=vmax, cmap=cmap)\n",
    "# plt.title('MIGHTI Zonal Wind - Green Line')\n",
    "# plt.ylabel(ylabel)\n",
    "\n",
    "# # Meridional wind plot, green line\n",
    "# plt.figure()\n",
    "# mighti_vw_green['Meridional_Wind'].transpose().plot(\n",
    "#     cbar_kwargs={'label': 'Meridional Wind (m/s)'}, vmin=vmin, vmax=vmax,\n",
    "#     cmap=cmap)\n",
    "# plt.title('MIGHTI Meridional Wind - Green Line')\n",
    "# plt.ylabel(ylabel)"
   ]
  },
  {
   "cell_type": "code",
   "execution_count": 10,
   "id": "de95d456-05be-4a11-8e19-8191c80573ce",
   "metadata": {},
   "outputs": [
    {
     "data": {
      "text/plain": [
       "pysat.Instrument(platform='icon', name='mighti', tag='vector_wind_green', inst_id='vector', clean_level='clean', pad=None, orbit_info={}, inst_module=pysatNASA.instruments.icon_mighti, custom=[], **{})"
      ]
     },
     "execution_count": 10,
     "metadata": {},
     "output_type": "execute_result"
    }
   ],
   "source": [
    "mighti_vw_green"
   ]
  },
  {
   "cell_type": "markdown",
   "id": "e5167dff",
   "metadata": {},
   "source": [
    "## MIGHTI Winds Summary Per-Orbit Example"
   ]
  },
  {
   "cell_type": "code",
   "execution_count": 11,
   "id": "665396d6",
   "metadata": {},
   "outputs": [
    {
     "ename": "RuntimeError",
     "evalue": "generator raised StopIteration",
     "output_type": "error",
     "traceback": [
      "\u001b[0;31m---------------------------------------------------------------------------\u001b[0m",
      "\u001b[0;31mStopIteration\u001b[0m                             Traceback (most recent call last)",
      "File \u001b[0;32m~/.local/lib/python3.9/site-packages/pysat/_orbits.py:294\u001b[0m, in \u001b[0;36mOrbits.__iter__\u001b[0;34m(self)\u001b[0m\n\u001b[1;32m    293\u001b[0m \u001b[38;5;28;01mwhile\u001b[39;00m \u001b[38;5;28mself\u001b[39m\u001b[38;5;241m.\u001b[39minst\u001b[38;5;241m.\u001b[39mempty:\n\u001b[0;32m--> 294\u001b[0m     \u001b[38;5;28;43mself\u001b[39;49m\u001b[38;5;241;43m.\u001b[39;49m\u001b[43minst\u001b[49m\u001b[38;5;241;43m.\u001b[39;49m\u001b[43mnext\u001b[49m\u001b[43m(\u001b[49m\u001b[43m)\u001b[49m\n\u001b[1;32m    296\u001b[0m \u001b[38;5;66;03m# Make a copy of the Instrument object\u001b[39;00m\n",
      "File \u001b[0;32m~/.local/lib/python3.9/site-packages/pysat/_instrument.py:2611\u001b[0m, in \u001b[0;36mInstrument.next\u001b[0;34m(self, verifyPad)\u001b[0m\n\u001b[1;32m   2609\u001b[0m \u001b[38;5;28;01mif\u001b[39;00m \u001b[38;5;28mlen\u001b[39m(\u001b[38;5;28mself\u001b[39m\u001b[38;5;241m.\u001b[39m_iter_list) \u001b[38;5;241m==\u001b[39m \u001b[38;5;241m0\u001b[39m:\n\u001b[1;32m   2610\u001b[0m     \u001b[38;5;66;03m# Nothing to potentially iterate over\u001b[39;00m\n\u001b[0;32m-> 2611\u001b[0m     \u001b[38;5;28;01mraise\u001b[39;00m \u001b[38;5;167;01mStopIteration\u001b[39;00m(\u001b[38;5;124m'\u001b[39m\u001b[38;5;124m'\u001b[39m\u001b[38;5;241m.\u001b[39mjoin((\u001b[38;5;124m'\u001b[39m\u001b[38;5;124mFile list is empty. \u001b[39m\u001b[38;5;124m'\u001b[39m,\n\u001b[1;32m   2612\u001b[0m                                  \u001b[38;5;124m'\u001b[39m\u001b[38;5;124mNothing to be done.\u001b[39m\u001b[38;5;124m'\u001b[39m)))\n\u001b[1;32m   2614\u001b[0m \u001b[38;5;28;01mif\u001b[39;00m \u001b[38;5;28mself\u001b[39m\u001b[38;5;241m.\u001b[39m_iter_type \u001b[38;5;241m==\u001b[39m \u001b[38;5;124m'\u001b[39m\u001b[38;5;124mdate\u001b[39m\u001b[38;5;124m'\u001b[39m:\n",
      "\u001b[0;31mStopIteration\u001b[0m: File list is empty. Nothing to be done.",
      "\nThe above exception was the direct cause of the following exception:\n",
      "\u001b[0;31mRuntimeError\u001b[0m                              Traceback (most recent call last)",
      "Cell \u001b[0;32mIn [11], line 44\u001b[0m\n\u001b[1;32m     41\u001b[0m figm, axsm \u001b[38;5;241m=\u001b[39m plt\u001b[38;5;241m.\u001b[39msubplots(\u001b[38;5;241m4\u001b[39m, \u001b[38;5;241m1\u001b[39m, figsize\u001b[38;5;241m=\u001b[39m(\u001b[38;5;241m8.5\u001b[39m,\u001b[38;5;241m21\u001b[39m))\n\u001b[1;32m     43\u001b[0m \u001b[38;5;66;03m# Iterate over orbits and produce plots.\u001b[39;00m\n\u001b[0;32m---> 44\u001b[0m \u001b[38;5;28;01mfor\u001b[39;00m i, lmighti_vw \u001b[38;5;129;01min\u001b[39;00m \u001b[38;5;28menumerate\u001b[39m(mighti_vw_color\u001b[38;5;241m.\u001b[39morbits):\n\u001b[1;32m     45\u001b[0m     \u001b[38;5;66;03m# Enable support for plotting local_time on x-axis.\u001b[39;00m\n\u001b[1;32m     46\u001b[0m     alt \u001b[38;5;241m=\u001b[39m (\u001b[38;5;124m\"\u001b[39m\u001b[38;5;124mtime\u001b[39m\u001b[38;5;124m\"\u001b[39m, lmighti_vw[\u001b[38;5;124m'\u001b[39m\u001b[38;5;124maverage_local_time\u001b[39m\u001b[38;5;124m'\u001b[39m]\u001b[38;5;241m.\u001b[39mdata)\n\u001b[1;32m     48\u001b[0m     \u001b[38;5;66;03m# Zonal wind.\u001b[39;00m\n",
      "\u001b[0;31mRuntimeError\u001b[0m: generator raised StopIteration"
     ]
    },
    {
     "data": {
      "image/png": "[encoded data removed]",
      "text/plain": [
       "<Figure size 850x2100 with 4 Axes>"
      ]
     },
     "metadata": {},
     "output_type": "display_data"
    },
    {
     "data": {
      "image/png": "[encoded data removed]",
      "text/plain": [
       "<Figure size 850x2100 with 4 Axes>"
      ]
     },
     "metadata": {},
     "output_type": "display_data"
    }
   ],
   "source": [
    "# Pick 'red' or 'green' for the line color MIGHTI is using\n",
    "line_color = 'red'\n",
    "\n",
    "# Set date\n",
    "date = dt.datetime(2020, 1, 2)\n",
    "\n",
    "# Set up orbit calculation parameters. Note that the 'average_local_time'\n",
    "# variable is not available in the MIGHTI files, it will be added by pysat.\n",
    "orbit_info = {'kind': 'lt', 'index': 'average_local_time'}\n",
    "\n",
    "# The local time of the profiles varies as a function of height,\n",
    "# make an average local time for use in calculations.\n",
    "def add_average_local_solar_time(inst):\n",
    "    \"\"\"Adds mean profile local solar time as variable \"\"\"\n",
    "\n",
    "    # Average local time over profile.\n",
    "    inst['average_local_time'] = inst['Local_Solar_Time'].mean(axis=1)\n",
    "\n",
    "    # Remove overall times when there is no local time info.\n",
    "    idx, = np.where(~inst['average_local_time'].isnull())\n",
    "    inst.data = inst[idx]\n",
    "\n",
    "    return\n",
    "    \n",
    "# MIGHTI Vector Wind\n",
    "mighti_vw_color = pysat.Instrument('icon', 'mighti',\n",
    "                                   tag='vector_wind_' + line_color,\n",
    "                                   inst_id='vector',\n",
    "                                   orbit_info=orbit_info)\n",
    "\n",
    "# Confine orbit calculation to user set date\n",
    "mighti_vw_color.bounds = (date, date)\n",
    "\n",
    "# Add calculation of profile average local time\n",
    "mighti_vw_color.custom_attach(add_average_local_solar_time)\n",
    "\n",
    "# Create a figure so each orbit is on the same plot\n",
    "# Zonal wind\n",
    "fig, axs = plt.subplots(4, 1, figsize=(8.5,21))\n",
    "# Meridional wind\n",
    "figm, axsm = plt.subplots(4, 1, figsize=(8.5,21))\n",
    "\n",
    "# Iterate over orbits and produce plots.\n",
    "for i, lmighti_vw in enumerate(mighti_vw_color.orbits):\n",
    "    # Enable support for plotting local_time on x-axis.\n",
    "    alt = (\"time\", lmighti_vw['average_local_time'].data)\n",
    "\n",
    "    # Zonal wind.\n",
    "    a = lmighti_vw['Zonal_Wind'].assign_coords(average_local_time=alt)\n",
    "\n",
    "    # Make plot.\n",
    "    a.transpose().plot(ax=axs[i], x='average_local_time', y='Altitude',\n",
    "                       cbar_kwargs={'label': 'Zonal Wind (m/s)'},\n",
    "                       vmin=vmin, vmax=vmax, cmap=cmap)\n",
    "    axs[i].set_xlim((0, 24))\n",
    "    axs[i].set_xticks([])\n",
    "    axs[i].set_xlabel('')\n",
    "    axs[i].set_ylabel('Altitude (km)')\n",
    "\n",
    "    # Meridional wind.\n",
    "    a = lmighti_vw['Meridional_Wind'].assign_coords(average_local_time=alt)\n",
    "\n",
    "    # Make plot.\n",
    "    a.transpose().plot(ax=axsm[i], x='average_local_time', y='Altitude',\n",
    "                       cbar_kwargs={'label': 'Meridional Wind (m/s)'},\n",
    "                       vmin=vmin, vmax=vmax, cmap=cmap)\n",
    "    axsm[i].set_xlim((0, 24))\n",
    "    axsm[i].set_xticks([])\n",
    "    axsm[i].set_xlabel('')\n",
    "    axsm[i].set_ylabel('Altitude (km)')\n",
    "\n",
    "    # For simplicity, terminate early.\n",
    "    if i == 3:\n",
    "        break\n",
    "\n",
    "\n",
    "axs[0].set_title('MIGHTI Zonal Wind on ' + date.strftime('%Y-%m-%d'))\n",
    "axs[-1].set_xticks([0, 6, 12, 18, 24])\n",
    "axs[-1].set_xlabel('Profile Average Solar Local Time')\n",
    "\n",
    "axsm[0].set_title('MIGHTI Meridional Wind on ' + date.strftime('%Y-%m-%d'))\n",
    "axsm[-1].set_xticks([0, 6, 12, 18, 24])\n",
    "axsm[-1].set_xlabel('Profile Average Solar Local Time')"
   ]
  },
  {
   "cell_type": "markdown",
   "id": "42ec5ff2",
   "metadata": {},
   "source": [
    "## MIGHTI Temperature Example"
   ]
  },
  {
   "cell_type": "code",
   "execution_count": 12,
   "id": "c5ccfda4",
   "metadata": {},
   "outputs": [
    {
     "ename": "RuntimeError",
     "evalue": "generator raised StopIteration",
     "output_type": "error",
     "traceback": [
      "\u001b[0;31m---------------------------------------------------------------------------\u001b[0m",
      "\u001b[0;31mStopIteration\u001b[0m                             Traceback (most recent call last)",
      "File \u001b[0;32m~/.local/lib/python3.9/site-packages/pysat/_orbits.py:294\u001b[0m, in \u001b[0;36mOrbits.__iter__\u001b[0;34m(self)\u001b[0m\n\u001b[1;32m    293\u001b[0m \u001b[38;5;28;01mwhile\u001b[39;00m \u001b[38;5;28mself\u001b[39m\u001b[38;5;241m.\u001b[39minst\u001b[38;5;241m.\u001b[39mempty:\n\u001b[0;32m--> 294\u001b[0m     \u001b[38;5;28;43mself\u001b[39;49m\u001b[38;5;241;43m.\u001b[39;49m\u001b[43minst\u001b[49m\u001b[38;5;241;43m.\u001b[39;49m\u001b[43mnext\u001b[49m\u001b[43m(\u001b[49m\u001b[43m)\u001b[49m\n\u001b[1;32m    296\u001b[0m \u001b[38;5;66;03m# Make a copy of the Instrument object\u001b[39;00m\n",
      "File \u001b[0;32m~/.local/lib/python3.9/site-packages/pysat/_instrument.py:2611\u001b[0m, in \u001b[0;36mInstrument.next\u001b[0;34m(self, verifyPad)\u001b[0m\n\u001b[1;32m   2609\u001b[0m \u001b[38;5;28;01mif\u001b[39;00m \u001b[38;5;28mlen\u001b[39m(\u001b[38;5;28mself\u001b[39m\u001b[38;5;241m.\u001b[39m_iter_list) \u001b[38;5;241m==\u001b[39m \u001b[38;5;241m0\u001b[39m:\n\u001b[1;32m   2610\u001b[0m     \u001b[38;5;66;03m# Nothing to potentially iterate over\u001b[39;00m\n\u001b[0;32m-> 2611\u001b[0m     \u001b[38;5;28;01mraise\u001b[39;00m \u001b[38;5;167;01mStopIteration\u001b[39;00m(\u001b[38;5;124m'\u001b[39m\u001b[38;5;124m'\u001b[39m\u001b[38;5;241m.\u001b[39mjoin((\u001b[38;5;124m'\u001b[39m\u001b[38;5;124mFile list is empty. \u001b[39m\u001b[38;5;124m'\u001b[39m,\n\u001b[1;32m   2612\u001b[0m                                  \u001b[38;5;124m'\u001b[39m\u001b[38;5;124mNothing to be done.\u001b[39m\u001b[38;5;124m'\u001b[39m)))\n\u001b[1;32m   2614\u001b[0m \u001b[38;5;28;01mif\u001b[39;00m \u001b[38;5;28mself\u001b[39m\u001b[38;5;241m.\u001b[39m_iter_type \u001b[38;5;241m==\u001b[39m \u001b[38;5;124m'\u001b[39m\u001b[38;5;124mdate\u001b[39m\u001b[38;5;124m'\u001b[39m:\n",
      "\u001b[0;31mStopIteration\u001b[0m: File list is empty. Nothing to be done.",
      "\nThe above exception was the direct cause of the following exception:\n",
      "\u001b[0;31mRuntimeError\u001b[0m                              Traceback (most recent call last)",
      "Cell \u001b[0;32mIn [12], line 33\u001b[0m\n\u001b[1;32m     31\u001b[0m \u001b[38;5;66;03m# Create figure\u001b[39;00m\n\u001b[1;32m     32\u001b[0m first_loop \u001b[38;5;241m=\u001b[39m \u001b[38;5;28;01mTrue\u001b[39;00m\n\u001b[0;32m---> 33\u001b[0m \u001b[38;5;28;01mfor\u001b[39;00m i, lmighti \u001b[38;5;129;01min\u001b[39;00m \u001b[38;5;28menumerate\u001b[39m(mighti\u001b[38;5;241m.\u001b[39morbits):\n\u001b[1;32m     34\u001b[0m     \u001b[38;5;28;01mif\u001b[39;00m first_loop:\n\u001b[1;32m     35\u001b[0m         \u001b[38;5;66;03m# Create figure on first loop. We now know how many orbits in the day.\u001b[39;00m\n\u001b[1;32m     36\u001b[0m         \u001b[38;5;66;03m# fig, axs = plt.subplots(mighti.orbits.num, 1, figsize=(8.5,21))\u001b[39;00m\n\u001b[1;32m     37\u001b[0m \n\u001b[1;32m     38\u001b[0m         \u001b[38;5;66;03m# For simplicity, limited to only three orbits.\u001b[39;00m\n\u001b[1;32m     39\u001b[0m         fig, axs \u001b[38;5;241m=\u001b[39m plt\u001b[38;5;241m.\u001b[39msubplots(\u001b[38;5;241m3\u001b[39m, \u001b[38;5;241m1\u001b[39m, figsize\u001b[38;5;241m=\u001b[39m(\u001b[38;5;241m8.5\u001b[39m,\u001b[38;5;241m21\u001b[39m))\n",
      "\u001b[0;31mRuntimeError\u001b[0m: generator raised StopIteration"
     ]
    }
   ],
   "source": [
    "# Pick 'a' or 'b' for the MIGHTI instrument\n",
    "inst_id = 'a'\n",
    "\n",
    "# Set date\n",
    "date = dt.datetime(2020, 1, 3)\n",
    "date2 = dt.datetime(2020, 1, 4)\n",
    "\n",
    "# Set parameters for orbit calculations.\n",
    "# Note that 'average_local_time' is a custom variable.\n",
    "orbit_info = {'kind': 'lt', 'index': 'average_local_time'}\n",
    "    \n",
    "# MIGHTI Temperature Instrument\n",
    "mighti = pysat.Instrument('icon', 'mighti', tag='temperature',\n",
    "                          inst_id=inst_id, orbit_info=orbit_info)\n",
    "\n",
    "# Confine orbit calculation to user set date\n",
    "mighti.bounds = (date, date2)\n",
    "\n",
    "# Produce a simpler local time signal to work with\n",
    "def add_average_tangent_solar_time(inst):\n",
    "    \"\"\"Adds mean profile local solar time as variable \"\"\"\n",
    "    # Average local time over profile\n",
    "    inst['average_local_time'] = inst['Tangent_Local_Solar_Time'].mean(dim='Alt')\n",
    "    idx, = np.where(~inst['average_local_time'].isnull())\n",
    "    inst.data = inst[idx]\n",
    "    return\n",
    "\n",
    "# Add custom method - applied whenever mighti data is loaded.\n",
    "mighti.custom_attach(add_average_tangent_solar_time)\n",
    "\n",
    "# Create figure\n",
    "first_loop = True\n",
    "for i, lmighti in enumerate(mighti.orbits):\n",
    "    if first_loop:\n",
    "        # Create figure on first loop. We now know how many orbits in the day.\n",
    "        # fig, axs = plt.subplots(mighti.orbits.num, 1, figsize=(8.5,21))\n",
    "\n",
    "        # For simplicity, limited to only three orbits.\n",
    "        fig, axs = plt.subplots(3, 1, figsize=(8.5,21))\n",
    "        first_loop = False\n",
    "    \n",
    "    # Enable support for plotting local_time on x-axis\n",
    "    slt = (\"time\", lmighti['average_local_time'].data)\n",
    "\n",
    "    # Enable support for plotting tangent altitude on y axis\n",
    "    alt = ((\"time\", \"Alt\"), lmighti['Tangent_Altitude'].data)\n",
    "\n",
    "    # Apply coordinates\n",
    "    a = lmighti['Temperature'].assign_coords(average_local_time=slt,\n",
    "                                             Tangent_Altitude=alt)\n",
    "\n",
    "    # Ensure local time is monotonically increasing\n",
    "    a = a.sortby(lmighti['average_local_time'])\n",
    "\n",
    "    # Make plot\n",
    "    a.transpose().plot(ax=axs[i], x='average_local_time', y='Tangent_Altitude',\n",
    "                       cbar_kwargs={'label': 'Temperature (K)'})\n",
    "    axs[i].set_xlim((0, 24))\n",
    "    axs[i].set_xticks([])\n",
    "    axs[i].set_xlabel('')\n",
    "    axs[i].set_ylabel('Tangent Altitude (km)')\n",
    "\n",
    "    if i == 2:\n",
    "        break\n",
    "\n",
    "# Set title and outermost x axis label\n",
    "axs[0].set_title('MIGHTI Temperature on ' + date.strftime('%Y-%m-%d'))\n",
    "axs[-1].set_xticks([0, 6, 12, 18, 24])\n",
    "axs[-1].set_xlabel('Profile Average Solar Local Time')"
   ]
  },
  {
   "cell_type": "code",
   "execution_count": null,
   "id": "3d7e0e95-066d-4b45-bf50-efbaf39d459a",
   "metadata": {},
   "outputs": [],
   "source": []
  }
 ],
 "metadata": {
  "kernelspec": {
   "display_name": "Python 3 (ipykernel)",
   "language": "python",
   "name": "python3"
  },
  "language_info": {
   "codemirror_mode": {
    "name": "ipython",
    "version": 3
   },
   "file_extension": ".py",
   "mimetype": "text/x-python",
   "name": "python",
   "nbconvert_exporter": "python",
   "pygments_lexer": "ipython3",
   "version": "3.9.1"
  }
 },
 "nbformat": 4,
 "nbformat_minor": 5
}
